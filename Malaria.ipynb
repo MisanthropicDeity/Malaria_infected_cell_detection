{
 "cells": [
  {
   "cell_type": "code",
   "execution_count": 2,
   "metadata": {},
   "outputs": [],
   "source": [
    "import tensorflow as tf\n",
    "import pandas as pd\n",
    "import random\n",
    "import os\n",
    "import cv2\n",
    "import matplotlib.pyplot as plt\n",
    "from tensorflow.keras.callbacks import TensorBoard\n",
    "import time\n"
   ]
  },
  {
   "cell_type": "code",
   "execution_count": 3,
   "metadata": {},
   "outputs": [],
   "source": [
    "# data =[]\n",
    "# lst = ['a','b','c']\n",
    "# for i in lst:\n",
    "#     data.append([\"this string numbererd\"+i,0])\n",
    "# print (data)\n",
    "# random.shuffle(data)\n",
    "# images = [i[0] for i in data]\n",
    "# label = [i[1] for i in data]\n",
    "# print (images)\n",
    "# print(label)"
   ]
  },
  {
   "cell_type": "code",
   "execution_count": 4,
   "metadata": {},
   "outputs": [],
   "source": [
    "# path = \"/home/diety/Desktop/Vidhu/New folder/malaria/cell-images-for-detecting-malaria/cell_images\"\n",
    "# Label = os.listdir(path)\n",
    "# data = []\n",
    "# uninfected = os.listdir(path+'/'+Label[0])\n",
    "# infected = os.listdir(path+'/'+Label[1])\n",
    "# for i in uninfected:\n",
    "#     data.append([i,0])\n",
    "# for i in infected:\n",
    "#     data.append([i,1])\n",
    "# data_train = data.sample(frac =0.8,random_state = 100)\n",
    "# data_test = data.drop(data_train.index)\n",
    "# random.shuffle(data)\n",
    "# images_train = [i[0] for i in data_train]\n",
    "# labels_train = [i[1] for i in data_train]\n",
    "# images_test = [i[0] for i in data_test]\n",
    "# labels_test = [i[1] for i in data_test]\n",
    "# print(\"train\",images_train.shape, labels_train.shape)\n",
    "# print(\"test\",images_test.shape, labels_test.shape)"
   ]
  },
  {
   "cell_type": "code",
   "execution_count": 5,
   "metadata": {},
   "outputs": [
    {
     "data": {
      "image/png": "[encoded data removed]",
      "text/plain": [
       "<Figure size 432x288 with 1 Axes>"
      ]
     },
     "metadata": {
      "needs_background": "light"
     },
     "output_type": "display_data"
    }
   ],
   "source": [
    "name = \"malaria_dataset-{}\".format(int(time.time()))\n",
    "\n",
    "dir_path = \"/home/diety/Desktop/Vidhu/New folder/malaria/cell-images-for-detecting-malaria/cell_images\"\n",
    "CATEGORIES = [\"Parasitized\",\"Uninfected\"]\n",
    "\n",
    "for category in CATEGORIES:\n",
    "    path = os.path.join(dir_path,category)\n",
    "    for img in os.listdir(path):\n",
    "        img_array=cv2.imread(os.path.join(path,img))\n",
    "        plt.imshow(img_array)\n",
    "        plt.show\n",
    "        break\n",
    "    break"
   ]
  },
  {
   "cell_type": "code",
   "execution_count": 6,
   "metadata": {},
   "outputs": [],
   "source": [
    "# new_array = cv2.resize(img_array,(30,30))\n",
    "# plt.imshow(new_array)\n",
    "# plt.show\n"
   ]
  },
  {
   "cell_type": "code",
   "execution_count": 7,
   "metadata": {},
   "outputs": [
    {
     "name": "stdout",
     "output_type": "stream",
     "text": [
      "general exception OpenCV(4.0.0) /io/opencv/modules/imgproc/src/resize.cpp:3784: error: (-215:Assertion failed) !ssize.empty() in function 'resize'\n",
      " /home/diety/Desktop/Vidhu/New folder/malaria/cell-images-for-detecting-malaria/cell_images/Parasitized/Thumbs.db\n",
      "general exception OpenCV(4.0.0) /io/opencv/modules/imgproc/src/resize.cpp:3784: error: (-215:Assertion failed) !ssize.empty() in function 'resize'\n",
      " /home/diety/Desktop/Vidhu/New folder/malaria/cell-images-for-detecting-malaria/cell_images/Uninfected/Thumbs.db\n"
     ]
    }
   ],
   "source": [
    "training_data =[]\n",
    "\n",
    "def create_training_data():\n",
    "    for category in CATEGORIES:\n",
    "        class_num = CATEGORIES.index(category)\n",
    "\n",
    "        path = os.path.join(dir_path,category)\n",
    "        for img in os.listdir(path):\n",
    "            try:\n",
    "                img_array=cv2.imread(os.path.join(path,img))\n",
    "                img_array = cv2.resize(img_array,(60,60))\n",
    "                training_data.append([img_array,class_num])\n",
    "            except OSError as e:\n",
    "                print(\"OSErrroBad img most likely\", e, os.path.join(path,img))\n",
    "            except Exception as e:\n",
    "                print(\"general exception\", e, os.path.join(path,img))\n",
    "                \n",
    "create_training_data()"
   ]
  },
  {
   "cell_type": "code",
   "execution_count": 8,
   "metadata": {},
   "outputs": [
    {
     "name": "stdout",
     "output_type": "stream",
     "text": [
      "27558\n"
     ]
    }
   ],
   "source": [
    "print(len(training_data))\n",
    "random.shuffle(training_data)\n"
   ]
  },
  {
   "cell_type": "code",
   "execution_count": 9,
   "metadata": {},
   "outputs": [],
   "source": [
    "import numpy as np\n",
    "X=[]\n",
    "y=[]\n",
    "for feat,label in training_data:\n",
    "    X.append(feat)\n",
    "    y.append(label)\n",
    "    \n",
    "X= np.array(X).reshape(-1,60,60,3)"
   ]
  },
  {
   "cell_type": "code",
   "execution_count": 10,
   "metadata": {},
   "outputs": [
    {
     "name": "stdout",
     "output_type": "stream",
     "text": [
      "Train on 24802 samples, validate on 2756 samples\n",
      "Epoch 1/5\n",
      "24802/24802 [==============================] - 633s 26ms/sample - loss: 0.6747 - accuracy: 0.5937 - val_loss: 0.6535 - val_accuracy: 0.6430\n",
      "Epoch 2/5\n",
      "24802/24802 [==============================] - 623s 25ms/sample - loss: 0.6270 - accuracy: 0.6533 - val_loss: 0.6306 - val_accuracy: 0.6466\n",
      "Epoch 3/5\n",
      "24802/24802 [==============================] - 621s 25ms/sample - loss: 0.5992 - accuracy: 0.6807 - val_loss: 0.6272 - val_accuracy: 0.6644\n",
      "Epoch 4/5\n",
      "24802/24802 [==============================] - 633s 26ms/sample - loss: 0.5756 - accuracy: 0.7051 - val_loss: 0.6317 - val_accuracy: 0.6567\n",
      "Epoch 5/5\n",
      "24802/24802 [==============================] - 643s 26ms/sample - loss: 0.5435 - accuracy: 0.7272 - val_loss: 0.6521 - val_accuracy: 0.6437\n"
     ]
    },
    {
     "data": {
      "text/plain": [
       "<tensorflow.python.keras.callbacks.History at 0x7f2ea15fe8d0>"
      ]
     },
     "execution_count": 10,
     "metadata": {},
     "output_type": "execute_result"
    }
   ],
   "source": [
    "X=X/255.0\n",
    "tensorboard = TensorBoard(log_dir = \"logs/{}\".format(name))\n",
    "model = tf.keras.models.Sequential([\n",
    "    tf.keras.layers.Conv2D(64,(3,3),input_shape = X.shape[1:],activation = 'relu'),\n",
    "    tf.keras.layers.Conv2D(64,(3,3),activation = 'relu'),\n",
    "    #tf.keras.layers.MaxPooling2D(pool_size=(2,2)),\n",
    "    #tf.keras.layers.Dropout(0.25),\n",
    "    \n",
    "    tf.keras.layers.Conv2D(64,(3,3),activation = 'relu'),\n",
    "    #tf.keras.layers.Conv2D(64,(3,3),activation = \"relu\"),\n",
    "    #tf.keras.layers.MaxPooling2D(pool_size = (2,2)),\n",
    "    #tf.keras.layers.Dropout(0.25),\n",
    "    \n",
    "    tf.keras.layers.Flatten(),\n",
    "    #tf.keras.layers.Dense(64,activation = 'relu'),\n",
    "    tf.keras.layers.Dropout(0.1),\n",
    "    tf.keras.layers.Dense(1,activation = 'sigmoid')\n",
    "    \n",
    "])\n",
    "\n",
    "model.compile(loss='binary_crossentropy',optimizer = 'adam',metrics=['accuracy'])\n",
    "\n",
    "model.fit(X,y,validation_split= 0.1,epochs=5,callbacks=[tensorboard])"
   ]
  },
  {
   "cell_type": "code",
   "execution_count": null,
   "metadata": {},
   "outputs": [],
   "source": []
  }
 ],
 "metadata": {
  "kernelspec": {
   "display_name": "Python 3",
   "language": "python",
   "name": "python3"
  },
  "language_info": {
   "codemirror_mode": {
    "name": "ipython",
    "version": 3
   },
   "file_extension": ".py",
   "mimetype": "text/x-python",
   "name": "python",
   "nbconvert_exporter": "python",
   "pygments_lexer": "ipython3",
   "version": "3.7.1"
  }
 },
 "nbformat": 4,
 "nbformat_minor": 2
}
